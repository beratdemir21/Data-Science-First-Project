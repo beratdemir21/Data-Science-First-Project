{
 "cells": [
  {
   "cell_type": "code",
   "execution_count": 1,
   "metadata": {},
   "outputs": [],
   "source": [
    "import numpy as np\n",
    "import pandas as pd\n",
    "from sklearn.preprocessing import OneHotEncoder\n",
    "from sklearn.base import BaseEstimator, TransformerMixin\n",
    "#from sklearn.impute import SimpleImputer\n",
    "from sklearn.pipeline import Pipeline\n",
    "from sklearn.preprocessing import StandardScaler\n",
    "from sklearn.preprocessing import MinMaxScaler\n",
    "from sklearn.model_selection import StratifiedShuffleSplit\n",
    "#import warnings\n",
    "#warnings.filterwarnings(\"ignore\")\n",
    "from sklearn.linear_model import LinearRegression\n",
    "from sklearn.tree import DecisionTreeRegressor\n",
    "from sklearn.ensemble import RandomForestRegressor\n",
    "from sklearn.model_selection import GridSearchCV\n",
    "from sklearn.model_selection import cross_val_score\n",
    "from sklearn.model_selection import train_test_split\n",
    "from sklearn.metrics import mean_squared_error, mean_absolute_error, r2_score"
   ]
  },
  {
   "cell_type": "code",
   "execution_count": 2,
   "metadata": {},
   "outputs": [],
   "source": [
    "#Train_set.drop(Test_set.columns.symmetric_difference(list(Train_set)), axis=1, inplace=True)"
   ]
  },
  {
   "cell_type": "markdown",
   "metadata": {},
   "source": [
    "# Fill Missing values"
   ]
  },
  {
   "cell_type": "code",
   "execution_count": 3,
   "metadata": {},
   "outputs": [],
   "source": [
    "class Fill_Miss_Value(BaseEstimator, TransformerMixin):\n",
    "    \n",
    "    def __init__(self, drop_con=False):\n",
    "        self.drop_con = drop_con\n",
    "    \n",
    "    def fit(self, X, y=None):\n",
    "        \n",
    "        global  numerical_att, categorical_att, frequency_cat, droped_colum, median\n",
    "        \n",
    "        droped_colum = []\n",
    "        \n",
    "        #drops columns that less than half length values\n",
    "        if (self.drop_con):            \n",
    "            a = np.ceil(len(X)*(0.5)),            \n",
    "            for att in list(X):                \n",
    "                if X[att].notnull().sum() < a:                                    \n",
    "                    droped_colum.append(att)                    \n",
    "                    X.drop(att, axis=1, inplace=True)\n",
    "        \n",
    "        numerical_att = [att for att in dict(Train_set.dtypes)\n",
    "                                if dict(Train_set.dtypes)[att] != 'object']        \n",
    "        frequency_cat = {}\n",
    "                       \n",
    "        categorical_att = X.columns.symmetric_difference(numerical_att)\n",
    "                \n",
    "        median = X[numerical_att].median(axis=0)\n",
    "        \n",
    "        for att in categorical_att:\n",
    "            frequency_cat[att] = X[att].value_counts()\n",
    "                    \n",
    "        return self\n",
    "\n",
    "\n",
    "    def transform(self, X):\n",
    "        median = X[numerical_att].median(axis=0)\n",
    "        \n",
    "        for att, val in zip(numerical_att, median):\n",
    "            X[att].fillna(val, inplace=True)\n",
    "        \n",
    "        for key , val in frequency_cat.items():\n",
    "                \n",
    "            X[key].fillna(val.idxmax(), inplace=True)\n",
    "                \n",
    "            categorical_att = list(X)\n",
    "        \n",
    "        return X"
   ]
  },
  {
   "cell_type": "markdown",
   "metadata": {},
   "source": [
    "# Feature Engineering"
   ]
  },
  {
   "cell_type": "code",
   "execution_count": 4,
   "metadata": {},
   "outputs": [],
   "source": [
    "class Feature_Combine_Attribute_Adder(BaseEstimator, TransformerMixin):\n",
    "    \n",
    "    def __init__(self, operation_atts=None, drop_columns=None, drop_con=False):\n",
    "        self.drop_columns = drop_columns\n",
    "        self.operation_atts = operation_atts\n",
    "        self.drop_con = drop_con\n",
    "    \n",
    "    def fit(self, X, y=None): \n",
    "        return self\n",
    "        \n",
    "\n",
    "    \n",
    "    def transform(self, X):    \n",
    "     \n",
    "       #select operator for feature operation \n",
    "        operation = {'+': (lambda a, b: a + b),\n",
    "                     '-': (lambda a, b: a - b),\n",
    "                     '/': (lambda a, b: a / b),\n",
    "                     '*': (lambda a, b: a * b)}\n",
    "        \n",
    "        \n",
    "        for key , val in self.operation_atts.items():  \n",
    "            \n",
    "            if isinstance(val, str):\n",
    "            \n",
    "                if (len(val.split()) == 1) : \n",
    "                    \n",
    "                    #numerical attribute transform to catecorical attribute \n",
    "                    if ((X.dtypes)[val] in ['int32', 'int64', 'float32', 'float64']):\n",
    "                        \n",
    "                        mapping = dict(zip(X[val].unique(),\n",
    "                                          [str(m) for m in X[val].unique()]))\n",
    "                        \n",
    "                        X[key] = X[val].map(mapping)\n",
    "                        \n",
    "            \n",
    "                if (len(val.split()) >= 2):\n",
    "\n",
    "                    #both of them numerical attribute for combine\n",
    "                    att1, opp, att2 = val.split()\n",
    "\n",
    "                    X[key] = operation[opp](X.loc[:,att1].values, X.loc[:,att2].values)\n",
    "                    \n",
    "                    \n",
    "            #numerical attribute transform to categorical \n",
    "            else:\n",
    "                new_att_name = key + '_' + 'CAT'\n",
    "                \n",
    "                X[new_att_name] = pd.cut(X[key], len(val), labels=val)\n",
    "                X[new_att_name] = X[new_att_name].astype('object')\n",
    "            \n",
    "        if (self.drop_con):\n",
    "           \n",
    "            return X.drop(self.drop_columns, axis=1, inplace=True)\n",
    "        \n",
    "        return X"
   ]
  },
  {
   "cell_type": "markdown",
   "metadata": {},
   "source": [
    "# Transform Categoric Columns To OneHotEncode"
   ]
  },
  {
   "cell_type": "code",
   "execution_count": 5,
   "metadata": {},
   "outputs": [],
   "source": [
    "class TextColum_To_CategoricColum(BaseEstimator, TransformerMixin):\n",
    "    \n",
    "    def __init__(self):\n",
    "        self\n",
    "        \n",
    "    def fit(self, X, y=None):\n",
    "        return self\n",
    "    \n",
    "    def transform(self, X):\n",
    "            \n",
    "        categorical_att = [att for att in dict(X.dtypes)\n",
    "                                if dict(X.dtypes)[att] in ['object']]\n",
    "                    \n",
    "        \n",
    "        oneHot = OneHotEncoder(sparse=False).fit(X[categorical_att])\n",
    "        oneHot_data = oneHot.transform(X[categorical_att])\n",
    "        oneHot_columns = [name for name in oneHot.get_feature_names(categorical_att)]\n",
    "            \n",
    "        df = pd.DataFrame(oneHot_data, index=X.index,\n",
    "                           columns=oneHot_columns, dtype=np.int32)    \n",
    "        \n",
    "        return pd.concat([X.drop(categorical_att, axis=1), df], axis=1)"
   ]
  },
  {
   "cell_type": "markdown",
   "metadata": {},
   "source": [
    "# Proportion Data for Test_Set"
   ]
  },
  {
   "cell_type": "code",
   "execution_count": 6,
   "metadata": {},
   "outputs": [],
   "source": [
    "class Select_Proportion_Col(BaseEstimator, TransformerMixin):\n",
    "    \n",
    "    def __init__(self, Label=None):\n",
    "        self.Label = Label\n",
    "    \n",
    "    def fit(self, X, y=None):\n",
    "        return self\n",
    "    \n",
    "    def transform(self, X):\n",
    "        \n",
    "        global prop_att\n",
    "        \n",
    "        X[self.Label.name] = self.Label\n",
    "        X[self.Label.name] = X[self.Label.name].astype('float64')\n",
    "        \n",
    "        \n",
    "        corr_matrix= X.corr()\n",
    "        \n",
    "        sorted_cor_matrix = corr_matrix[self.Label.name].sort_values(ascending=False).items()\n",
    "            \n",
    "        for att, val in sorted_cor_matrix:\n",
    "            \n",
    "            if not(att == self.Label.name):\n",
    "                \n",
    "                if (not(X[att].dtypes == type('object'))  & (val < 1.0)):\n",
    "                    \n",
    "                    if (len(X[att].unique()) > len(X)/2):\n",
    "                        prop_att = X[att].copy()                     \n",
    "                        break\n",
    "         \n",
    "        X.drop([self.Label.name], axis=1, inplace=True)\n",
    "        \n",
    "        return X"
   ]
  },
  {
   "cell_type": "markdown",
   "metadata": {},
   "source": [
    "# Scaling Numeric Data"
   ]
  },
  {
   "cell_type": "code",
   "execution_count": 7,
   "metadata": {},
   "outputs": [],
   "source": [
    "class Scaler(BaseEstimator, TransformerMixin):\n",
    "    \n",
    "    def __init__(self, min_max=False):\n",
    "        self.min_max = min_max\n",
    "        \n",
    "    def fit(self, X, y=None):\n",
    "        \n",
    "        return self\n",
    "    \n",
    "    def transform(self, X):\n",
    "        \n",
    "        numerical_att = [att for att in dict(Train_set.dtypes)\n",
    "                                if not(dict(Train_set.dtypes)[att] in ['object'])]                \n",
    "        \n",
    "        if (self.min_max):\n",
    "            scaler = MinMaxScaler()\n",
    "            data = scaler.fit_transform(X[numerical_att])\n",
    "            X[numerical_att]= pd.DataFrame(data, index=X.index, columns=numerical_att)[numerical_att]\n",
    "        else:\n",
    "            scaler = StandardScaler()\n",
    "            data = scaler.fit_transform(X[numerical_att])\n",
    "            X[numerical_att]= pd.DataFrame(data, index=X.index, columns=numerical_att)[numerical_att]\n",
    "            \n",
    "        return X"
   ]
  },
  {
   "cell_type": "markdown",
   "metadata": {},
   "source": [
    "# Column Reduction"
   ]
  },
  {
   "cell_type": "code",
   "execution_count": 8,
   "metadata": {},
   "outputs": [],
   "source": [
    "class Column_Reduction(BaseEstimator, TransformerMixin):\n",
    "    \n",
    "    def __init__(self, Label=None, thresh=0.0,  drop_con=False, drp_list=None, train_con=False):\n",
    "        self.thresh = thresh\n",
    "        self.Label = Label\n",
    "        self.drop_con = drop_con\n",
    "        self.drp_list = drp_list\n",
    "        self.train_con = train_con\n",
    "    \n",
    "    def fit(self, X, y=None):\n",
    "        return self\n",
    "    \n",
    "    def transform(self, X):\n",
    "              \n",
    "        if (self.drop_con):\n",
    "            X.drop(self.drp_list, axis=1, inplace=True)\n",
    "        \n",
    "        if (self.train_con):\n",
    "            X[self.Label.name] = self.Label\n",
    "\n",
    "            corr_matrix = X.corr()\n",
    "\n",
    "            temp_list = corr_matrix[self.Label.name][(np.abs(corr_matrix[self.Label.name]) >= self.thresh)&\n",
    "                                                 (np.abs(corr_matrix[self.Label.name]) < 1.0)].index      \n",
    "                        \n",
    "            return X[temp_list]\n"
   ]
  },
  {
   "cell_type": "markdown",
   "metadata": {},
   "source": [
    "# Split Dataset Train_set Test_set"
   ]
  },
  {
   "cell_type": "code",
   "execution_count": 64,
   "metadata": {
    "scrolled": true
   },
   "outputs": [],
   "source": [
    "class Split_Data_To_Train_Test_Set(BaseEstimator, TransformerMixin):\n",
    "    \n",
    "    def __init__(self, Label=None,test_size=0.2):\n",
    "        \n",
    "        self.Label = Label\n",
    "        self.test_size = test_size\n",
    "        \n",
    "    def fit(self, X, y=None):  \n",
    "        \n",
    "        return self\n",
    "            \n",
    "    def transform(self, X):\n",
    "        \n",
    "        split = StratifiedShuffleSplit(n_splits=1, test_size=self.test_size, random_state=42)\n",
    "\n",
    "        for train_index, test_index in split.split(X, X[self.Label]):\n",
    "            train_set = X.iloc[(train_index - 1)]\n",
    "            test_set = X.iloc[(test_index - 1)]\n",
    "        \n",
    "\n",
    "        \n",
    "        return (train_set, test_set)\n"
   ]
  },
  {
   "cell_type": "markdown",
   "metadata": {},
   "source": [
    "# Load Data"
   ]
  },
  {
   "cell_type": "code",
   "execution_count": 65,
   "metadata": {},
   "outputs": [],
   "source": [
    "Test_set = pd.read_csv(\"house-prices-advanced-regression-techniques/test.csv\")\n",
    "\n",
    "Test_set_Labels = pd.read_csv(\"house-prices-advanced-regression-techniques/sample_submission.csv\")\n",
    "\n",
    "Train_set = pd.read_csv(\"house-prices-advanced-regression-techniques/train.csv\")\n",
    "\n",
    "#Train_set.drop(Train_set[(Train_set['SalePrice'] > 400000)].index, inplace=True)\n",
    "\n",
    "\n",
    "Train_set_Labels = Train_set['SalePrice']\n",
    "\n",
    "\n",
    "Train_set_Labels.index = Train_set['Id'].values\n",
    "\n",
    "Train_set.drop(['SalePrice'], axis=1, inplace=True)\n",
    "\n",
    "for set_ in (Test_set, Test_set_Labels, Train_set):\n",
    "    set_.index = set_[\"Id\"].values\n",
    "    set_.drop(['Id'], axis=1, inplace=True)"
   ]
  },
  {
   "cell_type": "code",
   "execution_count": 66,
   "metadata": {
    "scrolled": true
   },
   "outputs": [
    {
     "name": "stdout",
     "output_type": "stream",
     "text": [
      "<class 'pandas.core.frame.DataFrame'>\n",
      "Int64Index: 1432 entries, 1 to 1460\n",
      "Data columns (total 79 columns):\n",
      " #   Column         Non-Null Count  Dtype  \n",
      "---  ------         --------------  -----  \n",
      " 0   MSSubClass     1432 non-null   int64  \n",
      " 1   MSZoning       1432 non-null   object \n",
      " 2   LotFrontage    1175 non-null   float64\n",
      " 3   LotArea        1432 non-null   int64  \n",
      " 4   Street         1432 non-null   object \n",
      " 5   Alley          91 non-null     object \n",
      " 6   LotShape       1432 non-null   object \n",
      " 7   LandContour    1432 non-null   object \n",
      " 8   Utilities      1432 non-null   object \n",
      " 9   LotConfig      1432 non-null   object \n",
      " 10  LandSlope      1432 non-null   object \n",
      " 11  Neighborhood   1432 non-null   object \n",
      " 12  Condition1     1432 non-null   object \n",
      " 13  Condition2     1432 non-null   object \n",
      " 14  BldgType       1432 non-null   object \n",
      " 15  HouseStyle     1432 non-null   object \n",
      " 16  OverallQual    1432 non-null   int64  \n",
      " 17  OverallCond    1432 non-null   int64  \n",
      " 18  YearBuilt      1432 non-null   int64  \n",
      " 19  YearRemodAdd   1432 non-null   int64  \n",
      " 20  RoofStyle      1432 non-null   object \n",
      " 21  RoofMatl       1432 non-null   object \n",
      " 22  Exterior1st    1432 non-null   object \n",
      " 23  Exterior2nd    1432 non-null   object \n",
      " 24  MasVnrType     1425 non-null   object \n",
      " 25  MasVnrArea     1425 non-null   float64\n",
      " 26  ExterQual      1432 non-null   object \n",
      " 27  ExterCond      1432 non-null   object \n",
      " 28  Foundation     1432 non-null   object \n",
      " 29  BsmtQual       1395 non-null   object \n",
      " 30  BsmtCond       1395 non-null   object \n",
      " 31  BsmtExposure   1394 non-null   object \n",
      " 32  BsmtFinType1   1395 non-null   object \n",
      " 33  BsmtFinSF1     1432 non-null   int64  \n",
      " 34  BsmtFinType2   1394 non-null   object \n",
      " 35  BsmtFinSF2     1432 non-null   int64  \n",
      " 36  BsmtUnfSF      1432 non-null   int64  \n",
      " 37  TotalBsmtSF    1432 non-null   int64  \n",
      " 38  Heating        1432 non-null   object \n",
      " 39  HeatingQC      1432 non-null   object \n",
      " 40  CentralAir     1432 non-null   object \n",
      " 41  Electrical     1431 non-null   object \n",
      " 42  1stFlrSF       1432 non-null   int64  \n",
      " 43  2ndFlrSF       1432 non-null   int64  \n",
      " 44  LowQualFinSF   1432 non-null   int64  \n",
      " 45  GrLivArea      1432 non-null   int64  \n",
      " 46  BsmtFullBath   1432 non-null   int64  \n",
      " 47  BsmtHalfBath   1432 non-null   int64  \n",
      " 48  FullBath       1432 non-null   int64  \n",
      " 49  HalfBath       1432 non-null   int64  \n",
      " 50  BedroomAbvGr   1432 non-null   int64  \n",
      " 51  KitchenAbvGr   1432 non-null   int64  \n",
      " 52  KitchenQual    1432 non-null   object \n",
      " 53  TotRmsAbvGrd   1432 non-null   int64  \n",
      " 54  Functional     1432 non-null   object \n",
      " 55  Fireplaces     1432 non-null   int64  \n",
      " 56  FireplaceQu    742 non-null    object \n",
      " 57  GarageType     1351 non-null   object \n",
      " 58  GarageYrBlt    1351 non-null   float64\n",
      " 59  GarageFinish   1351 non-null   object \n",
      " 60  GarageCars     1432 non-null   int64  \n",
      " 61  GarageArea     1432 non-null   int64  \n",
      " 62  GarageQual     1351 non-null   object \n",
      " 63  GarageCond     1351 non-null   object \n",
      " 64  PavedDrive     1432 non-null   object \n",
      " 65  WoodDeckSF     1432 non-null   int64  \n",
      " 66  OpenPorchSF    1432 non-null   int64  \n",
      " 67  EnclosedPorch  1432 non-null   int64  \n",
      " 68  3SsnPorch      1432 non-null   int64  \n",
      " 69  ScreenPorch    1432 non-null   int64  \n",
      " 70  PoolArea       1432 non-null   int64  \n",
      " 71  PoolQC         6 non-null      object \n",
      " 72  Fence          279 non-null    object \n",
      " 73  MiscFeature    54 non-null     object \n",
      " 74  MiscVal        1432 non-null   int64  \n",
      " 75  MoSold         1432 non-null   int64  \n",
      " 76  YrSold         1432 non-null   int64  \n",
      " 77  SaleType       1432 non-null   object \n",
      " 78  SaleCondition  1432 non-null   object \n",
      "dtypes: float64(3), int64(33), object(43)\n",
      "memory usage: 895.0+ KB\n"
     ]
    }
   ],
   "source": [
    "Train_set.info()"
   ]
  },
  {
   "cell_type": "code",
   "execution_count": 67,
   "metadata": {},
   "outputs": [
    {
     "data": {
      "text/html": [
       "<div>\n",
       "<style scoped>\n",
       "    .dataframe tbody tr th:only-of-type {\n",
       "        vertical-align: middle;\n",
       "    }\n",
       "\n",
       "    .dataframe tbody tr th {\n",
       "        vertical-align: top;\n",
       "    }\n",
       "\n",
       "    .dataframe thead th {\n",
       "        text-align: right;\n",
       "    }\n",
       "</style>\n",
       "<table border=\"1\" class=\"dataframe\">\n",
       "  <thead>\n",
       "    <tr style=\"text-align: right;\">\n",
       "      <th></th>\n",
       "      <th>YrSold</th>\n",
       "      <th>YearBuilt</th>\n",
       "      <th>Fireplaces</th>\n",
       "      <th>TotRmsAbvGrd</th>\n",
       "      <th>MSSubClass</th>\n",
       "    </tr>\n",
       "  </thead>\n",
       "  <tbody>\n",
       "    <tr>\n",
       "      <th>1</th>\n",
       "      <td>2008</td>\n",
       "      <td>2003</td>\n",
       "      <td>0</td>\n",
       "      <td>8</td>\n",
       "      <td>60</td>\n",
       "    </tr>\n",
       "    <tr>\n",
       "      <th>2</th>\n",
       "      <td>2007</td>\n",
       "      <td>1976</td>\n",
       "      <td>1</td>\n",
       "      <td>6</td>\n",
       "      <td>20</td>\n",
       "    </tr>\n",
       "    <tr>\n",
       "      <th>3</th>\n",
       "      <td>2008</td>\n",
       "      <td>2001</td>\n",
       "      <td>1</td>\n",
       "      <td>6</td>\n",
       "      <td>60</td>\n",
       "    </tr>\n",
       "    <tr>\n",
       "      <th>4</th>\n",
       "      <td>2006</td>\n",
       "      <td>1915</td>\n",
       "      <td>1</td>\n",
       "      <td>7</td>\n",
       "      <td>70</td>\n",
       "    </tr>\n",
       "    <tr>\n",
       "      <th>5</th>\n",
       "      <td>2008</td>\n",
       "      <td>2000</td>\n",
       "      <td>1</td>\n",
       "      <td>9</td>\n",
       "      <td>60</td>\n",
       "    </tr>\n",
       "    <tr>\n",
       "      <th>...</th>\n",
       "      <td>...</td>\n",
       "      <td>...</td>\n",
       "      <td>...</td>\n",
       "      <td>...</td>\n",
       "      <td>...</td>\n",
       "    </tr>\n",
       "    <tr>\n",
       "      <th>1456</th>\n",
       "      <td>2007</td>\n",
       "      <td>1999</td>\n",
       "      <td>1</td>\n",
       "      <td>7</td>\n",
       "      <td>60</td>\n",
       "    </tr>\n",
       "    <tr>\n",
       "      <th>1457</th>\n",
       "      <td>2010</td>\n",
       "      <td>1978</td>\n",
       "      <td>2</td>\n",
       "      <td>7</td>\n",
       "      <td>20</td>\n",
       "    </tr>\n",
       "    <tr>\n",
       "      <th>1458</th>\n",
       "      <td>2010</td>\n",
       "      <td>1941</td>\n",
       "      <td>2</td>\n",
       "      <td>9</td>\n",
       "      <td>70</td>\n",
       "    </tr>\n",
       "    <tr>\n",
       "      <th>1459</th>\n",
       "      <td>2010</td>\n",
       "      <td>1950</td>\n",
       "      <td>0</td>\n",
       "      <td>5</td>\n",
       "      <td>20</td>\n",
       "    </tr>\n",
       "    <tr>\n",
       "      <th>1460</th>\n",
       "      <td>2008</td>\n",
       "      <td>1965</td>\n",
       "      <td>0</td>\n",
       "      <td>6</td>\n",
       "      <td>20</td>\n",
       "    </tr>\n",
       "  </tbody>\n",
       "</table>\n",
       "<p>1432 rows × 5 columns</p>\n",
       "</div>"
      ],
      "text/plain": [
       "      YrSold  YearBuilt  Fireplaces  TotRmsAbvGrd  MSSubClass\n",
       "1       2008       2003           0             8          60\n",
       "2       2007       1976           1             6          20\n",
       "3       2008       2001           1             6          60\n",
       "4       2006       1915           1             7          70\n",
       "5       2008       2000           1             9          60\n",
       "...      ...        ...         ...           ...         ...\n",
       "1456    2007       1999           1             7          60\n",
       "1457    2010       1978           2             7          20\n",
       "1458    2010       1941           2             9          70\n",
       "1459    2010       1950           0             5          20\n",
       "1460    2008       1965           0             6          20\n",
       "\n",
       "[1432 rows x 5 columns]"
      ]
     },
     "execution_count": 67,
     "metadata": {},
     "output_type": "execute_result"
    }
   ],
   "source": [
    "Train_set[['YrSold', 'YearBuilt', 'Fireplaces','TotRmsAbvGrd','MSSubClass']]"
   ]
  },
  {
   "cell_type": "code",
   "execution_count": 68,
   "metadata": {},
   "outputs": [
    {
     "data": {
      "text/plain": [
       "15"
      ]
     },
     "execution_count": 68,
     "metadata": {},
     "output_type": "execute_result"
    }
   ],
   "source": [
    "len(Train_set['MSSubClass'].unique())"
   ]
  },
  {
   "cell_type": "markdown",
   "metadata": {},
   "source": [
    "# Preparing Data"
   ]
  },
  {
   "cell_type": "code",
   "execution_count": 69,
   "metadata": {},
   "outputs": [],
   "source": [
    "arithmetic_operation1 = {\n",
    "                 'House_Age':'YrSold - YearBuilt',\n",
    "                 'AfterRemodAge':'YrSold - YearRemodAdd',\n",
    "                 'TotalFloorSquareF':'1stFlrSF + 2ndFlrSF',\n",
    "                 'TotalBsmtFinSF':'BsmtFinSF1 + BsmtFinSF2',\n",
    "                 'TotalBsmtBath':'BsmtFullBath + BsmtHalfBath',\n",
    "                 'TotalBathroom':'FullBath + HalfBath',\n",
    "                 'Garage_Age':'YrSold - GarageYrBlt',\n",
    "                 'Per_Fireplaces_Room': 'Fireplaces / TotRmsAbvGrd',\n",
    "                 'Ratio_WoodFlSF': 'WoodDeckSF + TotalFloorSquareF'}\n",
    "\n",
    "\n",
    "numAtt_to_catAtt1 = {'Cat_MSSubClass':'MSSubClass'}\n",
    "\n",
    "numAtt_to_catAtt2 = {'House_Age': ['NEW', 'MIDLE', 'OLD'],                       \n",
    "                      'Garage_Age': ['NEW', 'MIDLE', 'OLD']}"
   ]
  },
  {
   "cell_type": "code",
   "execution_count": 70,
   "metadata": {},
   "outputs": [],
   "source": [
    "def Construct_Pipeline(thresh=0.0, scaler_con=False):\n",
    "    \n",
    "    pipeline_1 = Pipeline([\n",
    "            ('fill_miss_values', Fill_Miss_Value(drop_con=True)),   \n",
    "            ('tr_Cat',TextColum_To_CategoricColum()),\n",
    "            ('prop_att',Select_Proportion_Col(Label=Train_set_Labels)),\n",
    "            ('scaler', Scaler(min_max=scaler_con)),\n",
    "            ('column_reduction', Column_Reduction(Label=Train_set_Labels, thresh=thresh, train_con=True))])\n",
    "\n",
    "\n",
    "    drop_Num_List1 = ['MSSubClass']\n",
    "    pipeline_2 = Pipeline([\n",
    "            ('fill_miss_values', Fill_Miss_Value(drop_con=True)),\n",
    "            ('feature_combine', Feature_Combine_Attribute_Adder(operation_atts = numAtt_to_catAtt1)), \n",
    "            ('tr_Cat',TextColum_To_CategoricColum()),\n",
    "            ('prop_att',Select_Proportion_Col(Label=Train_set_Labels)),\n",
    "            ('scaler', Scaler(min_max=scaler_con)),\n",
    "            ('column_reduction', Column_Reduction(Label=Train_set_Labels, thresh=thresh, train_con=True,\n",
    "                                                 drop_con=True, drp_list=drop_Num_List1))])\n",
    "\n",
    "\n",
    "    drop_Num_List2 = ['YearBuilt','YearRemodAdd', 'GarageYrBlt','YrSold']\n",
    "    pipeline_3 = Pipeline([\n",
    "            ('fill_miss_values', Fill_Miss_Value(drop_con=True)),\n",
    "            ('feature_combine', Feature_Combine_Attribute_Adder(operation_atts = arithmetic_operation1)),    \n",
    "            ('tr_Cat',TextColum_To_CategoricColum()),\n",
    "            ('prop_att',Select_Proportion_Col(Label=Train_set_Labels)),\n",
    "            ('scaler', Scaler(min_max=scaler_con)),\n",
    "            ('column_reduction', Column_Reduction(Label=Train_set_Labels, thresh=thresh, train_con=True,\n",
    "                                                  drop_con=True, drp_list=drop_Num_List2))])\n",
    "\n",
    "\n",
    "    return (pipeline_1, pipeline_2, pipeline_3)"
   ]
  },
  {
   "cell_type": "code",
   "execution_count": 71,
   "metadata": {},
   "outputs": [],
   "source": [
    "def fit_transform(Construct_Pipeline=None, train_set=None):\n",
    "    pip_dict = {}\n",
    "    \n",
    "    for i, pipe in zip((1, 2, 3), Construct_Pipeline):\n",
    "        pip_dict[i] = pipe.fit_transform(train_set)\n",
    "        \n",
    "    return pip_dict"
   ]
  },
  {
   "cell_type": "code",
   "execution_count": 72,
   "metadata": {},
   "outputs": [
    {
     "data": {
      "text/plain": [
       "SalePrice            1.000000\n",
       "OverallQual          0.794784\n",
       "GrLivArea            0.663579\n",
       "GarageCars           0.646759\n",
       "GarageArea           0.624492\n",
       "                       ...   \n",
       "GarageType_Detchd   -0.384079\n",
       "BsmtQual_TA         -0.530358\n",
       "KitchenQual_TA      -0.544008\n",
       "GarageFinish_Unf    -0.549215\n",
       "ExterQual_TA        -0.608058\n",
       "Name: SalePrice, Length: 66, dtype: float64"
      ]
     },
     "execution_count": 72,
     "metadata": {},
     "output_type": "execute_result"
    }
   ],
   "source": [
    "prepared_data =  fit_transform(Construct_Pipeline=Construct_Pipeline(thresh=0.2, scaler_con=False), train_set=Train_set)\n",
    "\n",
    "prepared_data[1]['SalePrice']=Train_set_Labels\n",
    "\n",
    "corr_matrix = prepared_data[1].corr()\n",
    "\n",
    "corr_matrix['SalePrice'].sort_values(ascending=False)"
   ]
  },
  {
   "cell_type": "code",
   "execution_count": 73,
   "metadata": {},
   "outputs": [
    {
     "data": {
      "text/plain": [
       "<AxesSubplot:>"
      ]
     },
     "execution_count": 73,
     "metadata": {},
     "output_type": "execute_result"
    },
    {
     "data": {
      "image/png": "[encoded data removed]",
      "text/plain": [
       "<Figure size 432x288 with 1 Axes>"
      ]
     },
     "metadata": {
      "needs_background": "light"
     },
     "output_type": "display_data"
    }
   ],
   "source": [
    "prepared_data[1][\"OverallQual_cat\"] = pd.cut(Train_set['OverallQual'],\n",
    "                                              bins=[0., 4, 6., 8., np.inf],\n",
    "                                              labels=[1, 2, 3, 4,])\n",
    "\n",
    "prepared_data[1][\"OverallQual_cat\"].fillna(method='ffill', inplace=True)\n",
    "\n",
    "prepared_data[1][\"OverallQual_cat\"].hist()"
   ]
  },
  {
   "cell_type": "code",
   "execution_count": 74,
   "metadata": {},
   "outputs": [
    {
     "data": {
      "text/plain": [
       "2    771\n",
       "3    479\n",
       "1    141\n",
       "4     41\n",
       "Name: OverallQual_cat, dtype: int64"
      ]
     },
     "execution_count": 74,
     "metadata": {},
     "output_type": "execute_result"
    }
   ],
   "source": [
    "prepared_data[1][\"OverallQual_cat\"].value_counts()"
   ]
  },
  {
   "cell_type": "code",
   "execution_count": 75,
   "metadata": {},
   "outputs": [],
   "source": [
    "Strat_train_set, Strat_test_set = Split_Data_To_Train_Test_Set(Label=\"OverallQual_cat\").fit_transform(prepared_data[1])"
   ]
  },
  {
   "cell_type": "code",
   "execution_count": 76,
   "metadata": {},
   "outputs": [],
   "source": [
    "def Ratio_WoodFlSF_Cat_proportion(data):\n",
    "    return data['OverallQual_cat'].value_counts() / len(data)\n",
    "\n",
    "_, test_set = train_test_split(prepared_data[1], test_size=0.2, random_state=42)\n",
    "\n",
    "compare_props = pd.DataFrame({\n",
    "    'OverAll': Ratio_WoodFlSF_Cat_proportion(prepared_data[1]),\n",
    "    'Stratified': Ratio_WoodFlSF_Cat_proportion(Strat_test_set),\n",
    "    'Random': Ratio_WoodFlSF_Cat_proportion(test_set)\n",
    "}).sort_index()\n",
    "\n",
    "compare_props['Random %Error'] = 100 * compare_props['Random'] / compare_props['OverAll'] - 100\n",
    "compare_props['Stratified %Error'] = 100 * compare_props['Stratified'] / compare_props['OverAll'] - 100"
   ]
  },
  {
   "cell_type": "code",
   "execution_count": 77,
   "metadata": {},
   "outputs": [
    {
     "data": {
      "text/html": [
       "<div>\n",
       "<style scoped>\n",
       "    .dataframe tbody tr th:only-of-type {\n",
       "        vertical-align: middle;\n",
       "    }\n",
       "\n",
       "    .dataframe tbody tr th {\n",
       "        vertical-align: top;\n",
       "    }\n",
       "\n",
       "    .dataframe thead th {\n",
       "        text-align: right;\n",
       "    }\n",
       "</style>\n",
       "<table border=\"1\" class=\"dataframe\">\n",
       "  <thead>\n",
       "    <tr style=\"text-align: right;\">\n",
       "      <th></th>\n",
       "      <th>OverAll</th>\n",
       "      <th>Stratified</th>\n",
       "      <th>Random</th>\n",
       "      <th>Random %Error</th>\n",
       "      <th>Stratified %Error</th>\n",
       "    </tr>\n",
       "  </thead>\n",
       "  <tbody>\n",
       "    <tr>\n",
       "      <th>1</th>\n",
       "      <td>0.098464</td>\n",
       "      <td>0.090592</td>\n",
       "      <td>0.080139</td>\n",
       "      <td>-18.610226</td>\n",
       "      <td>-7.994168</td>\n",
       "    </tr>\n",
       "    <tr>\n",
       "      <th>2</th>\n",
       "      <td>0.538408</td>\n",
       "      <td>0.540070</td>\n",
       "      <td>0.536585</td>\n",
       "      <td>-0.338490</td>\n",
       "      <td>0.308663</td>\n",
       "    </tr>\n",
       "    <tr>\n",
       "      <th>3</th>\n",
       "      <td>0.334497</td>\n",
       "      <td>0.344948</td>\n",
       "      <td>0.348432</td>\n",
       "      <td>4.165909</td>\n",
       "      <td>3.124250</td>\n",
       "    </tr>\n",
       "    <tr>\n",
       "      <th>4</th>\n",
       "      <td>0.028631</td>\n",
       "      <td>0.024390</td>\n",
       "      <td>0.034843</td>\n",
       "      <td>21.696269</td>\n",
       "      <td>-14.812612</td>\n",
       "    </tr>\n",
       "  </tbody>\n",
       "</table>\n",
       "</div>"
      ],
      "text/plain": [
       "    OverAll  Stratified    Random  Random %Error  Stratified %Error\n",
       "1  0.098464    0.090592  0.080139     -18.610226          -7.994168\n",
       "2  0.538408    0.540070  0.536585      -0.338490           0.308663\n",
       "3  0.334497    0.344948  0.348432       4.165909           3.124250\n",
       "4  0.028631    0.024390  0.034843      21.696269         -14.812612"
      ]
     },
     "execution_count": 77,
     "metadata": {},
     "output_type": "execute_result"
    }
   ],
   "source": [
    "compare_props"
   ]
  },
  {
   "cell_type": "code",
   "execution_count": 79,
   "metadata": {},
   "outputs": [],
   "source": [
    "prepared_data[1].drop(['SalePrice', 'OverallQual_cat'], axis=1, inplace=True)"
   ]
  },
  {
   "cell_type": "code",
   "execution_count": 86,
   "metadata": {},
   "outputs": [],
   "source": [
    "def model_training(pip_dict=None, train_index=None, test_index=None, label=None):\n",
    "    per_pipe_scores = {}\n",
    "\n",
    "    for i, pipe in pip_dict.items():\n",
    "\n",
    "        per_predictor = {}\n",
    "\n",
    "        for name, model in zip(('lin_reg','tree_reg','rnd_forest_reg'),(lin_reg, tree_reg, rnd_forest_reg)):\n",
    "            \n",
    "            model.fit(pipe.loc[train_index].values, label.loc[train_index])\n",
    "            \n",
    "            predicet_y = model.predict(pipe.loc[test_index].values)\n",
    "            \n",
    "            per_predictor[name] = r2_score(label.loc[test_index], predicet_y)\n",
    "\n",
    "        per_pipe_scores['Pipe_' +  str(i)] = per_predictor\n",
    "        \n",
    "    return per_pipe_scores"
   ]
  },
  {
   "cell_type": "code",
   "execution_count": 87,
   "metadata": {},
   "outputs": [],
   "source": [
    "train_i = Strat_train_set.index\n",
    "test_i = Strat_test_set .index"
   ]
  },
  {
   "cell_type": "code",
   "execution_count": 88,
   "metadata": {},
   "outputs": [],
   "source": [
    "per_pipe_scores = model_training(pip_dict=prepared_data, train_index=train_i, test_index=test_i, label=Train_set_Labels)"
   ]
  },
  {
   "cell_type": "code",
   "execution_count": 89,
   "metadata": {},
   "outputs": [
    {
     "data": {
      "text/html": [
       "<div>\n",
       "<style scoped>\n",
       "    .dataframe tbody tr th:only-of-type {\n",
       "        vertical-align: middle;\n",
       "    }\n",
       "\n",
       "    .dataframe tbody tr th {\n",
       "        vertical-align: top;\n",
       "    }\n",
       "\n",
       "    .dataframe thead th {\n",
       "        text-align: right;\n",
       "    }\n",
       "</style>\n",
       "<table border=\"1\" class=\"dataframe\">\n",
       "  <thead>\n",
       "    <tr style=\"text-align: right;\">\n",
       "      <th></th>\n",
       "      <th>Pipe_1</th>\n",
       "      <th>Pipe_2</th>\n",
       "      <th>Pipe_3</th>\n",
       "    </tr>\n",
       "  </thead>\n",
       "  <tbody>\n",
       "    <tr>\n",
       "      <th>lin_reg</th>\n",
       "      <td>0.659874</td>\n",
       "      <td>0.661429</td>\n",
       "      <td>0.641313</td>\n",
       "    </tr>\n",
       "    <tr>\n",
       "      <th>tree_reg</th>\n",
       "      <td>0.676906</td>\n",
       "      <td>0.706834</td>\n",
       "      <td>0.675439</td>\n",
       "    </tr>\n",
       "    <tr>\n",
       "      <th>rnd_forest_reg</th>\n",
       "      <td>0.862622</td>\n",
       "      <td>0.865326</td>\n",
       "      <td>0.870259</td>\n",
       "    </tr>\n",
       "  </tbody>\n",
       "</table>\n",
       "</div>"
      ],
      "text/plain": [
       "                  Pipe_1    Pipe_2    Pipe_3\n",
       "lin_reg         0.659874  0.661429  0.641313\n",
       "tree_reg        0.676906  0.706834  0.675439\n",
       "rnd_forest_reg  0.862622  0.865326  0.870259"
      ]
     },
     "execution_count": 89,
     "metadata": {},
     "output_type": "execute_result"
    }
   ],
   "source": [
    "pd.DataFrame(per_pipe_scores)"
   ]
  },
  {
   "cell_type": "markdown",
   "metadata": {},
   "source": [
    "# Train And Test ML Models"
   ]
  },
  {
   "cell_type": "code",
   "execution_count": 17,
   "metadata": {},
   "outputs": [],
   "source": [
    "prepared_data =  fit_transform(Construct_Pipeline=Construct_Pipeline(thresh=0.2, scaler_con=False), train_set=Train_set)"
   ]
  },
  {
   "cell_type": "code",
   "execution_count": 19,
   "metadata": {},
   "outputs": [],
   "source": [
    "lin_reg = LinearRegression()\n",
    "tree_reg = DecisionTreeRegressor(random_state=42)\n",
    "rnd_forest_reg = RandomForestRegressor(n_estimators=100, random_state=42)"
   ]
  },
  {
   "cell_type": "code",
   "execution_count": 91,
   "metadata": {},
   "outputs": [],
   "source": [
    "lin_reg = LinearRegression()\n",
    "tree_reg = DecisionTreeRegressor(random_state=42)\n",
    "rnd_forest_reg = RandomForestRegressor(n_estimators=100, random_state=42)\n",
    "\n",
    "def model_training(pip_dict=None, train_single_models=True, train_index=None, test_index=None, label=None):\n",
    "    per_pipe_scores = {}\n",
    "\n",
    "    for i, pipe in pip_dict.items():\n",
    "\n",
    "        per_predictor = {}\n",
    "\n",
    "        for name, model in zip(('lin_reg','tree_reg','rnd_forest_reg'),(lin_reg, tree_reg, rnd_forest_reg)):\n",
    "            \n",
    "            if (train_single_models):\n",
    "                \n",
    "                model.fit(pipe.loc[train_index].values, label.loc[train_index])\n",
    "            \n",
    "                predicet_y = model.predict(pipe.loc[test_index].values)\n",
    "\n",
    "                per_predictor[name] = r2_score(label.loc[test_index], predicet_y)\n",
    "                \n",
    "            else:\n",
    "                scores = cross_val_score(model, pipe.values, label, scoring='r2', cv=10)                \n",
    "                per_predictor[name] = scores \n",
    "\n",
    "        per_pipe_scores['Pipe_' +  str(i)] = per_predictor\n",
    "        \n",
    "    return per_pipe_scores"
   ]
  },
  {
   "cell_type": "code",
   "execution_count": 100,
   "metadata": {},
   "outputs": [],
   "source": [
    "def monitor_result(per_pipe_scores=None, train_single_models=False):\n",
    "    \n",
    "    if (train_single_models):\n",
    "        return pd.DataFrame(per_pipe_scores)\n",
    "    \n",
    "    else:    \n",
    "        df=pd.DataFrame()\n",
    "        col1 = []\n",
    "        col2 = []\n",
    "\n",
    "        for name, val in per_pipe_scores.items():\n",
    "            col1.append(name)\n",
    "            for pred, scores in val.items():\n",
    "                col2.append(pred)\n",
    "                df = pd.concat([df, pd.DataFrame(scores)], axis=1)\n",
    "\n",
    "        new_col1 = [item for item in col1 for i in range(len(set(col2)))]\n",
    "\n",
    "        Scores_DF = pd.DataFrame(df.values, columns =[new_col1, col2])\n",
    "\n",
    "        Statistics_DF = pd.concat([Scores_DF.mean(axis=0), Scores_DF.std(axis=0)], axis=1)\n",
    "        Statistics_DF.columns=['Mean', 'Std']\n",
    "\n",
    "        return (Scores_DF, Statistics_DF)"
   ]
  },
  {
   "cell_type": "markdown",
   "metadata": {},
   "source": [
    "\n",
    "# Standardized and Trained"
   ]
  },
  {
   "cell_type": "code",
   "execution_count": 104,
   "metadata": {
    "scrolled": true
   },
   "outputs": [],
   "source": [
    "standard_fit_transform_dict = fit_transform(Construct_Pipeline(thresh=0.2, scaler_con=False), train_set=Train_set)\n",
    "standard_scores = model_training(pip_dict=standard_fit_transform_dict, train_single_models=True,\n",
    "                                train_index=train_i, test_index=test_i, label=Train_set_Labels)\n",
    "standard_scores_df = monitor_result(per_pipe_scores=standard_scores, train_single_models=True)"
   ]
  },
  {
   "cell_type": "code",
   "execution_count": 105,
   "metadata": {},
   "outputs": [
    {
     "data": {
      "text/html": [
       "<div>\n",
       "<style scoped>\n",
       "    .dataframe tbody tr th:only-of-type {\n",
       "        vertical-align: middle;\n",
       "    }\n",
       "\n",
       "    .dataframe tbody tr th {\n",
       "        vertical-align: top;\n",
       "    }\n",
       "\n",
       "    .dataframe thead th {\n",
       "        text-align: right;\n",
       "    }\n",
       "</style>\n",
       "<table border=\"1\" class=\"dataframe\">\n",
       "  <thead>\n",
       "    <tr style=\"text-align: right;\">\n",
       "      <th></th>\n",
       "      <th>Pipe_1</th>\n",
       "      <th>Pipe_2</th>\n",
       "      <th>Pipe_3</th>\n",
       "    </tr>\n",
       "  </thead>\n",
       "  <tbody>\n",
       "    <tr>\n",
       "      <th>lin_reg</th>\n",
       "      <td>0.640831</td>\n",
       "      <td>0.640831</td>\n",
       "      <td>0.641313</td>\n",
       "    </tr>\n",
       "    <tr>\n",
       "      <th>tree_reg</th>\n",
       "      <td>0.687232</td>\n",
       "      <td>0.687232</td>\n",
       "      <td>0.675439</td>\n",
       "    </tr>\n",
       "    <tr>\n",
       "      <th>rnd_forest_reg</th>\n",
       "      <td>0.868677</td>\n",
       "      <td>0.868677</td>\n",
       "      <td>0.870259</td>\n",
       "    </tr>\n",
       "  </tbody>\n",
       "</table>\n",
       "</div>"
      ],
      "text/plain": [
       "                  Pipe_1    Pipe_2    Pipe_3\n",
       "lin_reg         0.640831  0.640831  0.641313\n",
       "tree_reg        0.687232  0.687232  0.675439\n",
       "rnd_forest_reg  0.868677  0.868677  0.870259"
      ]
     },
     "execution_count": 105,
     "metadata": {},
     "output_type": "execute_result"
    }
   ],
   "source": [
    "standard_scores_df"
   ]
  },
  {
   "cell_type": "code",
   "execution_count": 106,
   "metadata": {},
   "outputs": [],
   "source": [
    "standard_fit_transform_dict = fit_transform(Construct_Pipeline(thresh=0.2, scaler_con=False), train_set=Train_set)\n",
    "standard_scores = model_training(pip_dict=standard_fit_transform_dict, train_single_models=False,\n",
    "                                train_index=train_i, test_index=test_i, label=Train_set_Labels)\n",
    "standard_scores_df, standard_statistics_df = monitor_result(per_pipe_scores=standard_scores, train_single_models=False)"
   ]
  },
  {
   "cell_type": "markdown",
   "metadata": {},
   "source": [
    "# Normalized and Trained "
   ]
  },
  {
   "cell_type": "code",
   "execution_count": 109,
   "metadata": {
    "scrolled": true
   },
   "outputs": [],
   "source": [
    "normilize_fit_transform_dict = fit_transform(Construct_Pipeline(thresh=0.2, scaler_con=True), train_set=Train_set)\n",
    "nomalized_scores = model_training(pip_dict=normilize_fit_transform_dict, train_single_models=False,\n",
    "                                train_index=train_i, test_index=test_i, label=Train_set_Labels)\n",
    "normilize_scores_df, normilize_statistics_df = monitor_result(per_pipe_scores=nomalized_scores, train_single_models=False)"
   ]
  },
  {
   "cell_type": "code",
   "execution_count": 110,
   "metadata": {},
   "outputs": [
    {
     "data": {
      "text/html": [
       "<div>\n",
       "<style scoped>\n",
       "    .dataframe tbody tr th:only-of-type {\n",
       "        vertical-align: middle;\n",
       "    }\n",
       "\n",
       "    .dataframe tbody tr th {\n",
       "        vertical-align: top;\n",
       "    }\n",
       "\n",
       "    .dataframe thead tr th {\n",
       "        text-align: left;\n",
       "    }\n",
       "</style>\n",
       "<table border=\"1\" class=\"dataframe\">\n",
       "  <thead>\n",
       "    <tr>\n",
       "      <th></th>\n",
       "      <th></th>\n",
       "      <th colspan=\"2\" halign=\"left\">Standardized</th>\n",
       "      <th colspan=\"2\" halign=\"left\">Normalized</th>\n",
       "    </tr>\n",
       "    <tr>\n",
       "      <th></th>\n",
       "      <th></th>\n",
       "      <th>Mean</th>\n",
       "      <th>Std</th>\n",
       "      <th>Mean</th>\n",
       "      <th>Std</th>\n",
       "    </tr>\n",
       "  </thead>\n",
       "  <tbody>\n",
       "    <tr>\n",
       "      <th rowspan=\"3\" valign=\"top\">Pipe_1</th>\n",
       "      <th>lin_reg</th>\n",
       "      <td>0.801178</td>\n",
       "      <td>0.146908</td>\n",
       "      <td>0.804226</td>\n",
       "      <td>0.152579</td>\n",
       "    </tr>\n",
       "    <tr>\n",
       "      <th>tree_reg</th>\n",
       "      <td>0.710974</td>\n",
       "      <td>0.077440</td>\n",
       "      <td>0.714020</td>\n",
       "      <td>0.071710</td>\n",
       "    </tr>\n",
       "    <tr>\n",
       "      <th>rnd_forest_reg</th>\n",
       "      <td>0.869329</td>\n",
       "      <td>0.027856</td>\n",
       "      <td>0.869159</td>\n",
       "      <td>0.027924</td>\n",
       "    </tr>\n",
       "    <tr>\n",
       "      <th rowspan=\"3\" valign=\"top\">Pipe_2</th>\n",
       "      <th>lin_reg</th>\n",
       "      <td>0.801178</td>\n",
       "      <td>0.146908</td>\n",
       "      <td>0.804226</td>\n",
       "      <td>0.152579</td>\n",
       "    </tr>\n",
       "    <tr>\n",
       "      <th>tree_reg</th>\n",
       "      <td>0.710974</td>\n",
       "      <td>0.077440</td>\n",
       "      <td>0.714020</td>\n",
       "      <td>0.071710</td>\n",
       "    </tr>\n",
       "    <tr>\n",
       "      <th>rnd_forest_reg</th>\n",
       "      <td>0.869329</td>\n",
       "      <td>0.027856</td>\n",
       "      <td>0.869159</td>\n",
       "      <td>0.027924</td>\n",
       "    </tr>\n",
       "    <tr>\n",
       "      <th rowspan=\"3\" valign=\"top\">Pipe_3</th>\n",
       "      <th>lin_reg</th>\n",
       "      <td>0.799372</td>\n",
       "      <td>0.149346</td>\n",
       "      <td>0.805960</td>\n",
       "      <td>0.145644</td>\n",
       "    </tr>\n",
       "    <tr>\n",
       "      <th>tree_reg</th>\n",
       "      <td>0.691216</td>\n",
       "      <td>0.069849</td>\n",
       "      <td>0.691579</td>\n",
       "      <td>0.070643</td>\n",
       "    </tr>\n",
       "    <tr>\n",
       "      <th>rnd_forest_reg</th>\n",
       "      <td>0.869603</td>\n",
       "      <td>0.027161</td>\n",
       "      <td>0.869606</td>\n",
       "      <td>0.027138</td>\n",
       "    </tr>\n",
       "  </tbody>\n",
       "</table>\n",
       "</div>"
      ],
      "text/plain": [
       "                      Standardized           Normalized          \n",
       "                              Mean       Std       Mean       Std\n",
       "Pipe_1 lin_reg            0.801178  0.146908   0.804226  0.152579\n",
       "       tree_reg           0.710974  0.077440   0.714020  0.071710\n",
       "       rnd_forest_reg     0.869329  0.027856   0.869159  0.027924\n",
       "Pipe_2 lin_reg            0.801178  0.146908   0.804226  0.152579\n",
       "       tree_reg           0.710974  0.077440   0.714020  0.071710\n",
       "       rnd_forest_reg     0.869329  0.027856   0.869159  0.027924\n",
       "Pipe_3 lin_reg            0.799372  0.149346   0.805960  0.145644\n",
       "       tree_reg           0.691216  0.069849   0.691579  0.070643\n",
       "       rnd_forest_reg     0.869603  0.027161   0.869606  0.027138"
      ]
     },
     "execution_count": 110,
     "metadata": {},
     "output_type": "execute_result"
    }
   ],
   "source": [
    "pd.DataFrame(np.c_[standard_statistics_df.values, normilize_statistics_df.values],\n",
    "             index=standard_statistics_df.index,\n",
    "            columns=[['Standardized', 'Standardized', 'Normalized', 'Normalized'],\n",
    "                    list(standard_statistics_df)*2])"
   ]
  },
  {
   "cell_type": "markdown",
   "metadata": {},
   "source": [
    "# Monitor Results"
   ]
  },
  {
   "cell_type": "code",
   "execution_count": 100,
   "metadata": {},
   "outputs": [
    {
     "data": {
      "text/html": [
       "<div>\n",
       "<style scoped>\n",
       "    .dataframe tbody tr th:only-of-type {\n",
       "        vertical-align: middle;\n",
       "    }\n",
       "\n",
       "    .dataframe tbody tr th {\n",
       "        vertical-align: top;\n",
       "    }\n",
       "\n",
       "    .dataframe thead th {\n",
       "        text-align: right;\n",
       "    }\n",
       "</style>\n",
       "<table border=\"1\" class=\"dataframe\">\n",
       "  <thead>\n",
       "    <tr style=\"text-align: right;\">\n",
       "      <th></th>\n",
       "      <th></th>\n",
       "      <th>Mean</th>\n",
       "      <th>Std</th>\n",
       "    </tr>\n",
       "  </thead>\n",
       "  <tbody>\n",
       "    <tr>\n",
       "      <th rowspan=\"3\" valign=\"top\">Pipe_1</th>\n",
       "      <th>lin_reg</th>\n",
       "      <td>False</td>\n",
       "      <td>False</td>\n",
       "    </tr>\n",
       "    <tr>\n",
       "      <th>tree_reg</th>\n",
       "      <td>True</td>\n",
       "      <td>False</td>\n",
       "    </tr>\n",
       "    <tr>\n",
       "      <th>rnd_forest_reg</th>\n",
       "      <td>False</td>\n",
       "      <td>True</td>\n",
       "    </tr>\n",
       "    <tr>\n",
       "      <th rowspan=\"3\" valign=\"top\">Pipe_2</th>\n",
       "      <th>lin_reg</th>\n",
       "      <td>False</td>\n",
       "      <td>False</td>\n",
       "    </tr>\n",
       "    <tr>\n",
       "      <th>tree_reg</th>\n",
       "      <td>True</td>\n",
       "      <td>False</td>\n",
       "    </tr>\n",
       "    <tr>\n",
       "      <th>rnd_forest_reg</th>\n",
       "      <td>False</td>\n",
       "      <td>False</td>\n",
       "    </tr>\n",
       "    <tr>\n",
       "      <th rowspan=\"3\" valign=\"top\">Pipe_3</th>\n",
       "      <th>lin_reg</th>\n",
       "      <td>True</td>\n",
       "      <td>True</td>\n",
       "    </tr>\n",
       "    <tr>\n",
       "      <th>tree_reg</th>\n",
       "      <td>True</td>\n",
       "      <td>False</td>\n",
       "    </tr>\n",
       "    <tr>\n",
       "      <th>rnd_forest_reg</th>\n",
       "      <td>True</td>\n",
       "      <td>False</td>\n",
       "    </tr>\n",
       "    <tr>\n",
       "      <th rowspan=\"3\" valign=\"top\">Pipe_4</th>\n",
       "      <th>lin_reg</th>\n",
       "      <td>True</td>\n",
       "      <td>True</td>\n",
       "    </tr>\n",
       "    <tr>\n",
       "      <th>tree_reg</th>\n",
       "      <td>True</td>\n",
       "      <td>False</td>\n",
       "    </tr>\n",
       "    <tr>\n",
       "      <th>rnd_forest_reg</th>\n",
       "      <td>True</td>\n",
       "      <td>False</td>\n",
       "    </tr>\n",
       "  </tbody>\n",
       "</table>\n",
       "</div>"
      ],
      "text/plain": [
       "                        Mean    Std\n",
       "Pipe_1 lin_reg         False  False\n",
       "       tree_reg         True  False\n",
       "       rnd_forest_reg  False   True\n",
       "Pipe_2 lin_reg         False  False\n",
       "       tree_reg         True  False\n",
       "       rnd_forest_reg  False  False\n",
       "Pipe_3 lin_reg          True   True\n",
       "       tree_reg         True  False\n",
       "       rnd_forest_reg   True  False\n",
       "Pipe_4 lin_reg          True   True\n",
       "       tree_reg         True  False\n",
       "       rnd_forest_reg   True  False"
      ]
     },
     "execution_count": 100,
     "metadata": {},
     "output_type": "execute_result"
    }
   ],
   "source": [
    "(standard_statistics_df > normilize_statistics_df)"
   ]
  },
  {
   "cell_type": "code",
   "execution_count": null,
   "metadata": {},
   "outputs": [],
   "source": [
    "def display_scores(scores):    \n",
    "    print(\"Scores : {0}\".format(scores))\n",
    "    print(\"Mean : {0}\".format(scores.mean()))\n",
    "    print(\"Standart Deviation {0}\".format(scores.std()))"
   ]
  }
 ],
 "metadata": {
  "kernelspec": {
   "display_name": "Python 3",
   "language": "python",
   "name": "python3"
  },
  "language_info": {
   "codemirror_mode": {
    "name": "ipython",
    "version": 3
   },
   "file_extension": ".py",
   "mimetype": "text/x-python",
   "name": "python",
   "nbconvert_exporter": "python",
   "pygments_lexer": "ipython3",
   "version": "3.8.5"
  }
 },
 "nbformat": 4,
 "nbformat_minor": 4
}
